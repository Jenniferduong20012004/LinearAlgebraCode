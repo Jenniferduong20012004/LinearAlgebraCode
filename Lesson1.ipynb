{
  "nbformat": 4,
  "nbformat_minor": 0,
  "metadata": {
    "colab": {
      "provenance": [],
      "authorship_tag": "ABX9TyNxK8F1/Q/YaFPLG2ZRQghA",
      "include_colab_link": true
    },
    "kernelspec": {
      "name": "python3",
      "display_name": "Python 3"
    },
    "language_info": {
      "name": "python"
    }
  },
  "cells": [
    {
      "cell_type": "markdown",
      "metadata": {
        "id": "view-in-github",
        "colab_type": "text"
      },
      "source": [
        "<a href=\"https://colab.research.google.com/github/Jenniferduong20012004/LinearAlgebraCode/blob/main/Lesson1.ipynb\" target=\"_parent\"><img src=\"https://colab.research.google.com/assets/colab-badge.svg\" alt=\"Open In Colab\"/></a>"
      ]
    },
    {
      "cell_type": "code",
      "execution_count": 1,
      "metadata": {
        "colab": {
          "base_uri": "https://localhost:8080/"
        },
        "id": "RQBg50XHPJf6",
        "outputId": "d9971809-c0c0-44fd-cd97-79e63e4cd886"
      },
      "outputs": [
        {
          "output_type": "stream",
          "name": "stdout",
          "text": [
            "Mounted at /content/gdrive\n"
          ]
        }
      ],
      "source": [
        "from google.colab import drive\n",
        "drive.mount ('/content/gdrive')"
      ]
    },
    {
      "cell_type": "code",
      "source": [
        "!cd gdrive/MyDrive && ls"
      ],
      "metadata": {
        "colab": {
          "base_uri": "https://localhost:8080/"
        },
        "id": "68mTTHeHP1qF",
        "outputId": "6f8e6d39-2482-496b-a33f-0a3ad9cd20d1"
      },
      "execution_count": 2,
      "outputs": [
        {
          "output_type": "stream",
          "name": "stdout",
          "text": [
            "'105752527_280192639763360_5557619807363489769_n (1).jpg'\n",
            " 16311023309716410854968267182343.jpg\n",
            " 394716504_680611027372937_609713585764631834_n.jpg\n",
            " 423454912_937168784605632_6479017447325050339_n.jpg\n",
            " 486955237-how-to-crack-the-ielts-speaking-test-part-1-pdf.pdf\n",
            " 88101002_186943169258084_1921562870672261120_o.jpg\n",
            "'Academic certficare'\n",
            " AIVietnam\n",
            "'Bảng tính chưa có tiêu đề (1).gsheet'\n",
            "'Bảng tính chưa có tiêu đề.gsheet'\n",
            " CB_OrderReceipt.pdf\n",
            " Certificate-QR-2020-E67B31DD074-d97c2bd7f9d95743b2cf890b95d105bb.pdf\n",
            "'Chapter 4 - Basics of Arduino - Internet of Things with Raspberry Pi and Arduino by Rajesh Singh (Author) Anita Gehlot (Author) Lovi Raj Gupta (Author) Bhupendra Singh (Author) Mahendra Swain (Author).gdoc'\n",
            " chess-checkmated-chess-pieces-black-white-957312.jpeg\n",
            "'Chia bảng.gsheet'\n",
            " Classroom\n",
            "'Colab Notebooks'\n",
            " data.gsheet\n",
            " DCDP8398.jpg\n",
            " description.pdf\n",
            " DLD_HồTrungThyGiang_NguyễnHoàngThảoTrinh_DươngThịQuỳnhNhư.gdoc\n",
            "'DLD LAB 2.gdoc'\n",
            "'Dld lab5.gdoc'\n",
            "' DLD lab 6.gdoc'\n",
            "'dld lab.gdoc'\n",
            "'DLD lB 4.pdf'\n",
            "'Duong thi quynh nhu (1).pdf'\n",
            "'Duong thi quynh nhu.pdf'\n",
            "'Dương_Thị_Quỳnh_Như_TMC_Lab06 .doc'\n",
            "'Dương Thị Quỳnh Như_TMC_ Lab7.ipynb.gdoc'\n",
            "'Ebook GT Tieng Han Tong Hop - So Cap 1 [hoctienghan24h.com].gdoc'\n",
            " Esssay.gdoc\n",
            "'Final report.gdoc'\n",
            "'Halliday, David_ Resnick, Robert_ Walker, Jearl - Halliday & Resnick - Fundamentals of Physics (11th ed.)-Wiley (2018).pdf'\n",
            " Hàn\n",
            " han.gdoc\n",
            " hankuk.gdoc\n",
            " Hình\n",
            " IMG_1682263273347_1682303483592.jpg\n",
            " IMG_20210226_233136.jpg\n",
            " IMG_20231127_151329.pdf\n",
            " IMG_20231128_124112.pdf\n",
            " inbound1034403607657768684.pdf\n",
            " inbound4056913627328627895.png\n",
            " inbound4246427598468987581.pdf\n",
            " inbound4425566571961465133.pdf\n",
            " inbound6265935697798674860.pdf\n",
            "'Inclass Score Phy1-DrLan.xls'\n",
            " IU\n",
            "'IU OA_PE015IU_05.xls'\n",
            "'Jennifer Dương - data.gsheet'\n",
            "'Lab 1 - Introduction to Arduino – Internet of Things_S2_.._.gdoc'\n",
            "'LAB 3: LRC CIRCUIT.gdoc'\n",
            "'LAB REPORT 7 official.docx'\n",
            " LLMS.ipynb\n",
            " ML\n",
            "'Ôn thi C.gdoc'\n",
            " oop.gdoc\n",
            " overleaf.gdoc\n",
            "'PayPal_ Hoạt động.pdf'\n",
            " pham.jpg\n",
            " Philosophy.gdoc\n",
            " pointer.gdoc\n",
            "'question 2: phy lab 3 qunu.gdoc'\n",
            "'red lightning.gsheet'\n",
            "'RESEARCH ON CHEMICAL COMPOSITION AND ANTI-CANCER ACTIVITY OF THE KAEMPFERIA PARVIFLORA WALL.gdoc'\n",
            "'research orientation.gdoc'\n",
            " rubric.pdf\n",
            "'Tabular Data.gdoc'\n",
            "'TA cal2'\n",
            "'Tài liệu không có tiêu đề (10).gdoc'\n",
            "'Tài liệu không có tiêu đề (11).gdoc'\n",
            "'Tài liệu không có tiêu đề (1).gdoc'\n",
            "'Tài liệu không có tiêu đề (2).gdoc'\n",
            "'Tài liệu không có tiêu đề (3).gdoc'\n",
            "'Tài liệu không có tiêu đề (4).gdoc'\n",
            "'Tài liệu không có tiêu đề (5).gdoc'\n",
            "'Tài liệu không có tiêu đề (6).gdoc'\n",
            "'Tài liệu không có tiêu đề (7).gdoc'\n",
            "'Tài liệu không có tiêu đề (8).gdoc'\n",
            "'Tài liệu không có tiêu đề (9).gdoc'\n",
            "'Tài liệu không có tiêu đề.gdoc'\n",
            "'Tài liệu không có tiêu đề.pdf'\n",
            " TextData.ipynb\n",
            "'Thư giới thiệu .gdoc'\n",
            " Topik.gdoc\n",
            "'[TRIẾT]_Note.gdoc'\n",
            "'UI UX'\n",
            "'writing final.gdoc'\n",
            " Writing.gdoc\n"
          ]
        }
      ]
    },
    {
      "cell_type": "code",
      "source": [
        "from google.colab import files\n",
        "files.upload()"
      ],
      "metadata": {
        "colab": {
          "base_uri": "https://localhost:8080/",
          "height": 1000
        },
        "id": "uW_h1kFRP7LX",
        "outputId": "3f31457e-a110-4b3e-96c9-e7ae2095b163"
      },
      "execution_count": 3,
      "outputs": [
        {
          "output_type": "display_data",
          "data": {
            "text/plain": [
              "<IPython.core.display.HTML object>"
            ],
            "text/html": [
              "\n",
              "     <input type=\"file\" id=\"files-a9da5363-831e-4cda-8bee-985e18c58861\" name=\"files[]\" multiple disabled\n",
              "        style=\"border:none\" />\n",
              "     <output id=\"result-a9da5363-831e-4cda-8bee-985e18c58861\">\n",
              "      Upload widget is only available when the cell has been executed in the\n",
              "      current browser session. Please rerun this cell to enable.\n",
              "      </output>\n",
              "      <script>// Copyright 2017 Google LLC\n",
              "//\n",
              "// Licensed under the Apache License, Version 2.0 (the \"License\");\n",
              "// you may not use this file except in compliance with the License.\n",
              "// You may obtain a copy of the License at\n",
              "//\n",
              "//      http://www.apache.org/licenses/LICENSE-2.0\n",
              "//\n",
              "// Unless required by applicable law or agreed to in writing, software\n",
              "// distributed under the License is distributed on an \"AS IS\" BASIS,\n",
              "// WITHOUT WARRANTIES OR CONDITIONS OF ANY KIND, either express or implied.\n",
              "// See the License for the specific language governing permissions and\n",
              "// limitations under the License.\n",
              "\n",
              "/**\n",
              " * @fileoverview Helpers for google.colab Python module.\n",
              " */\n",
              "(function(scope) {\n",
              "function span(text, styleAttributes = {}) {\n",
              "  const element = document.createElement('span');\n",
              "  element.textContent = text;\n",
              "  for (const key of Object.keys(styleAttributes)) {\n",
              "    element.style[key] = styleAttributes[key];\n",
              "  }\n",
              "  return element;\n",
              "}\n",
              "\n",
              "// Max number of bytes which will be uploaded at a time.\n",
              "const MAX_PAYLOAD_SIZE = 100 * 1024;\n",
              "\n",
              "function _uploadFiles(inputId, outputId) {\n",
              "  const steps = uploadFilesStep(inputId, outputId);\n",
              "  const outputElement = document.getElementById(outputId);\n",
              "  // Cache steps on the outputElement to make it available for the next call\n",
              "  // to uploadFilesContinue from Python.\n",
              "  outputElement.steps = steps;\n",
              "\n",
              "  return _uploadFilesContinue(outputId);\n",
              "}\n",
              "\n",
              "// This is roughly an async generator (not supported in the browser yet),\n",
              "// where there are multiple asynchronous steps and the Python side is going\n",
              "// to poll for completion of each step.\n",
              "// This uses a Promise to block the python side on completion of each step,\n",
              "// then passes the result of the previous step as the input to the next step.\n",
              "function _uploadFilesContinue(outputId) {\n",
              "  const outputElement = document.getElementById(outputId);\n",
              "  const steps = outputElement.steps;\n",
              "\n",
              "  const next = steps.next(outputElement.lastPromiseValue);\n",
              "  return Promise.resolve(next.value.promise).then((value) => {\n",
              "    // Cache the last promise value to make it available to the next\n",
              "    // step of the generator.\n",
              "    outputElement.lastPromiseValue = value;\n",
              "    return next.value.response;\n",
              "  });\n",
              "}\n",
              "\n",
              "/**\n",
              " * Generator function which is called between each async step of the upload\n",
              " * process.\n",
              " * @param {string} inputId Element ID of the input file picker element.\n",
              " * @param {string} outputId Element ID of the output display.\n",
              " * @return {!Iterable<!Object>} Iterable of next steps.\n",
              " */\n",
              "function* uploadFilesStep(inputId, outputId) {\n",
              "  const inputElement = document.getElementById(inputId);\n",
              "  inputElement.disabled = false;\n",
              "\n",
              "  const outputElement = document.getElementById(outputId);\n",
              "  outputElement.innerHTML = '';\n",
              "\n",
              "  const pickedPromise = new Promise((resolve) => {\n",
              "    inputElement.addEventListener('change', (e) => {\n",
              "      resolve(e.target.files);\n",
              "    });\n",
              "  });\n",
              "\n",
              "  const cancel = document.createElement('button');\n",
              "  inputElement.parentElement.appendChild(cancel);\n",
              "  cancel.textContent = 'Cancel upload';\n",
              "  const cancelPromise = new Promise((resolve) => {\n",
              "    cancel.onclick = () => {\n",
              "      resolve(null);\n",
              "    };\n",
              "  });\n",
              "\n",
              "  // Wait for the user to pick the files.\n",
              "  const files = yield {\n",
              "    promise: Promise.race([pickedPromise, cancelPromise]),\n",
              "    response: {\n",
              "      action: 'starting',\n",
              "    }\n",
              "  };\n",
              "\n",
              "  cancel.remove();\n",
              "\n",
              "  // Disable the input element since further picks are not allowed.\n",
              "  inputElement.disabled = true;\n",
              "\n",
              "  if (!files) {\n",
              "    return {\n",
              "      response: {\n",
              "        action: 'complete',\n",
              "      }\n",
              "    };\n",
              "  }\n",
              "\n",
              "  for (const file of files) {\n",
              "    const li = document.createElement('li');\n",
              "    li.append(span(file.name, {fontWeight: 'bold'}));\n",
              "    li.append(span(\n",
              "        `(${file.type || 'n/a'}) - ${file.size} bytes, ` +\n",
              "        `last modified: ${\n",
              "            file.lastModifiedDate ? file.lastModifiedDate.toLocaleDateString() :\n",
              "                                    'n/a'} - `));\n",
              "    const percent = span('0% done');\n",
              "    li.appendChild(percent);\n",
              "\n",
              "    outputElement.appendChild(li);\n",
              "\n",
              "    const fileDataPromise = new Promise((resolve) => {\n",
              "      const reader = new FileReader();\n",
              "      reader.onload = (e) => {\n",
              "        resolve(e.target.result);\n",
              "      };\n",
              "      reader.readAsArrayBuffer(file);\n",
              "    });\n",
              "    // Wait for the data to be ready.\n",
              "    let fileData = yield {\n",
              "      promise: fileDataPromise,\n",
              "      response: {\n",
              "        action: 'continue',\n",
              "      }\n",
              "    };\n",
              "\n",
              "    // Use a chunked sending to avoid message size limits. See b/62115660.\n",
              "    let position = 0;\n",
              "    do {\n",
              "      const length = Math.min(fileData.byteLength - position, MAX_PAYLOAD_SIZE);\n",
              "      const chunk = new Uint8Array(fileData, position, length);\n",
              "      position += length;\n",
              "\n",
              "      const base64 = btoa(String.fromCharCode.apply(null, chunk));\n",
              "      yield {\n",
              "        response: {\n",
              "          action: 'append',\n",
              "          file: file.name,\n",
              "          data: base64,\n",
              "        },\n",
              "      };\n",
              "\n",
              "      let percentDone = fileData.byteLength === 0 ?\n",
              "          100 :\n",
              "          Math.round((position / fileData.byteLength) * 100);\n",
              "      percent.textContent = `${percentDone}% done`;\n",
              "\n",
              "    } while (position < fileData.byteLength);\n",
              "  }\n",
              "\n",
              "  // All done.\n",
              "  yield {\n",
              "    response: {\n",
              "      action: 'complete',\n",
              "    }\n",
              "  };\n",
              "}\n",
              "\n",
              "scope.google = scope.google || {};\n",
              "scope.google.colab = scope.google.colab || {};\n",
              "scope.google.colab._files = {\n",
              "  _uploadFiles,\n",
              "  _uploadFilesContinue,\n",
              "};\n",
              "})(self);\n",
              "</script> "
            ]
          },
          "metadata": {}
        },
        {
          "output_type": "stream",
          "name": "stdout",
          "text": [
            "Saving one_star_reviews (3).csv to one_star_reviews (3).csv\n"
          ]
        },
        {
          "output_type": "execute_result",
          "data": {
            "text/plain": [
              "{'one_star_reviews (3).csv': b'Rating,Review\\r\\n1,\"Latest update broke the photo taking function. I do not use the Phone\\'s Auto Rotate. Before this update, if I take photo on the Landscape mode, it would be correct side up. But after the update, it went the wrong side up. I have to press the rotate button that appears at the Shortcuts (Extreme rightFull Review\"\\r\\n1,\"It was one of my favourite app. Easy and secure one. But now i am facing the problem from last 6 months that during whatsapp call when i want to use other apps then call is interepted and other person could not hear my voice, i have to keep open the whatsapp during the call. Second is that there is Full Review\"\\r\\n1,\"WhatsApp has a major glitch or bug that is horrible for user. For eg, whenever you listen to voice recording and the phone goes to sleep mode, you can still listen to the recording but you can\\'t unlock your phone no matter how much you try to open the lock screen it will be always black, black, blacFull Review\"\\r\\n1,\"It was a good app for communication but it is not good since last few months when its broadcast function is not functioning. I used to share messages via broadcast function and the effect was good. However, the messages that I had broadcasted to my recipients were no longer been seen or read by themFull Review\"\\r\\n1,\"A almost a year passed and the bug I reported in march is still in the app. I don\\'t get it. Fix it, it\\'s annoying. In March it was on my s10e now it is on my s10 (europe version). Everytime I want to send a picture WhatsApp just rotates the picture(s) automatically. It\\'s really annoying and u reallyFull Review\"\\r\\n1,WhatsApp has a very big issue on its security system that is the biometric authentication or you can say the fingerprint identity its a very major glitch very messy one. I have goven the right finger print but still it can\\'t read my fingerprint and then after 5 unsuccessful attempts it closed for 30Full Review\\r\\n1,\"Windows version doesn\\'t work unless the android app is open! Are you kidding me? Why on earth would I need it on my laptop if I had access to my phone? You can listen to voice messages only in chat, you\\'ve got to stay in one chat for 10 minutes doing nothing untill the voice is finished. Do us all aFull Review\"\\r\\n1,\"YEARS of messages just PERMANENTLY disappeared without warning!! Messages from my husband especially, and loved ones who have passed away all gone. So angry and upset \\xf0\\x9f\\x98\\xa1 Whatsapp \"\"helpline\"\" online was not helpful at all!! Uninstalled and reinstalled... messages still did not come back. Now messages Full Review\"\\r\\n1,\"Yeah thanks. I\\'ve lost all my data of chats and images and videos, stickers and what not because they simply, do not Restore it when we try to switch our phone no. And the support team is the laziest one without any efficient help provision. And I know they won\\'t see the problem of a common man likeFull Review\"\\r\\n1,\"Have been using Whatsapp for quite a long time , but one of the major point as a developer it should be considered is if we shift our whatsapp from Android to iOS devices or vice versa , i should have that privilege to do that and it is major bottleneck which restricts user freedom to migrate betweeFull Review\"\\r\\n1,I greatly appreciate the work towards the app. I frequently use this app but main concern is I want few important groups that need to be pinned at first so that the messages from the group will not be overlooked.When I discussed about this pinned behaviour many of my friends agreed to me then I cameFull Review\\r\\n1,I have been facing persistent issues of my chats getting deleted automatically. Everyday I get a notification that I have left some group without me doing anything. The previous messages in many chats have been deleted. I have changed my Gmail account as well. The account isn\\'t logged in from any otFull Review\\r\\n1,\"the most pathetic and outdated app don\\'t work with Android 11. Unable to click the button to record message. When sending emojis, you cannot search as the send button disappears. It used to be good app, probably Facebook is killing this app so people can shift to Messenger and stuff where they can sFull Review\"\\r\\n1,\"Far behind every other competitor! No functions added since 1995. If I mute a chat and archive it, it does not make any sense that they get out of the archive as new messages arrive! I don\\'t want them to be on the top all the time only because the group is too active! If I archive the chat it HAS TOFull Review\"\\r\\n1,\"WhatsApp is a fine messaging service. However, the procedure of blocking your account is inexcusably ridiculously bad for such a big platform. A relative\\'s account was recently compromised (he suddenly started sending fraudulent messages). In order to block his account he had to write an email and hFull Review\"\\r\\n1,\"I m regular user of broadcast message which was very helpful, but from 12 to 15days i m facing lot of problem regarding sending Broadcast message it is not been delivered to the recipient but in my mobile it is showing it is it has been delivered and double tick also, i can\\'t understand why the WhatFull Review\"\\r\\n1,\"Hi, I just want one feature without which this app is useless. There must be an option to disable restrict strangers (contacts not on our phone) to send us message or call. Please understand this is a must feature. Because nowadays almost everyday lots of us are getting spam advert mesaages. So atleFull Review\"\\r\\n1,\"I have an issue with my whatsapp. When my internet is on , but I didn\\'t receive any notification or messages and any voice call or video call on lock screen and floating notification. until and unless I open my whatsapp. I have checked my phone settings and whatsapp setting. From my side , it is okaFull Review\"\\r\\n1,\"July \\'20: Loss of features. App used to preview link upload info when sharing, but no longer does. Just a naked url without any helpful info. Please bring that feature back. Update Dec \\'20: This feature hasn\\'t been working for 2 weeks. Very frustrating to lose this.\"\\r\\n1,It used to be my favorite app for messaging back in 2015 or so. But now there\\'s something seriously wrong with it\\'s notifications. On Pixel 4a - standard vanilla android message notification playing a call ringtone. There isn\\'t a way to customize notifications or make them silent After few hours of Full Review\\r\\n1,\"Sending and receiving videos take absolutely foreverrrrrr, it worked perfectly fine before all these new updates and now when I try and send a 15 second video my internet stops working/delays and I can\\'t use any apps on my phone whilst sending the video as the video will stop trying to send! This isFull Review\"\\r\\n1,Everything was good until the latest update. Suddenly the Automatic Backup chat history option started taking larger space which is increasing day by day by 3-4 mb. My whatsapp backup jumped from 432 mb to 469 mb in just 2-3 days even when there is no cloud storage option enabled. Please kindly fix Full Review\\r\\n1,\"There is so many problems.One of this I can take it my topic . If you join someone group late. So, you cannot receive or read those messages that are all above or when you\\'re not on this group.You can solve this problem that person can receive or read all the messages all above when the group has beFull Review\"\\r\\n1,\"YouTube link previews are not working/showing up. When a YouTube link is pasted, there is no preview of the video and the title of it is not shown as well. Why is it so? It\\'s been happening in all the phones lately. I have been noticing in others\\' phones, too. Is it an update fault?\"\\r\\n1,\"Currently I need to transfer backup data to another phone but the verification code need to resend in 10+ hours if I have found an issue doing restoration. Normally verification code of other applications are just few minutes to be able to resend again, this is over ridiculous for backing up data inFull Review\"\\r\\n1,Issues: 1. Broadcast list is not working. It\\'s really taxing to send out individually. What\\'s this new bug ? Worst is its shows delivered so dont even know who it has sent to and who it hasn\\'t. 2. YouTube preview links are not showing which is so bad.\\r\\n1,Reconnecting... That\\'s call I get. Tested with a good Internet connexion. Tested on 4 g. Just keeps saying reconnecting. Both of us apps are up to date. Other apps don\\'t have this connexion issue on the same WiFi and 4g. Would not recommend.\\r\\n1,It\\'s useless by your services. You blocked me after using 10 years without even checking properly. Mailed so many times and still same reply. If you put features to report so try to see if it\\'s genuine report or not. Since fb takeover you became worse. Started telegram and it\\'s a lot better than youFull Review\\r\\n1,I am facing one issue for many years. I have sim card of another state so network is showing in roaming state and I am using internet from that sim whenever it\\'s going to take WhatsApp backup of chat it\\'s getting failed because of roaming error. I have already enabled roaming enable for that SIM butFull Review\\r\\n1,There is something wrong with WhatsApp recently. I can\\'t just call anyone. I can only hear other person voice if we video call. I can\\'t hear them if I turn off my camera or if he turn off his. Both must turn on camera so that we can hear eachother. Please fix this problem asap. Thank you.\\r\\n1,\"This app has to remove the read receipt function in it, the function has caused so much unnecessary problems for people with friends and relatives just because of the blue ticks. If WhatsApp can change the mute function, removing read receipt from this app should be an easy task. Read receipt is argFull Review\"\\r\\n1,The one star only because of.... Recent update made my whatsapp account non usable. App is consistently crashing tried many ways except uninstalling and reinstalling but nothing is working. If this Persist I won\\'t be able to use the application as well as I\\'ll lose my data. Reported many times but nFull Review\\r\\n1,\"Thier has been some useless and annoying updates in watsapp broadcast which is becoming difficult to use day by day. Latest the broadcast is not working at all, i have sent many messages through broadcast recently but only 5% of my receipents are actullay receiving the messages. In profiles of otherFull Review\"\\r\\n1,\"The upgrade messed up the thumbnail preview when sending the YouTube link. The preview is very important part of the work. I don\\'t know if this ia policy, might consider other platforms or apps instead. Please FIX the problem. Can you?\"\\r\\n1,\"Super app for chating, but for sending videos it takes so many time, even if my network has a highspeed also. Do pls fix this problem. Pls rply me whatsapp head. Even in new updation it has so many bugs and why in new updation payments option for?? !! So pls rply me and answer my questions. I have sFull Review\"\\r\\n1,\"The app will stop functioning if you do not keep updating it. It will then proceed to spam you with notifications until you do update. As someone who doesn\\'t update app constantly this is very frustrating. A shame my family only uses this app, otherwise it would be long gone.\"\\r\\n1,\"This app is garbage. It removes useful functions like being able to view the number of messages in a chat and being able to delete a specific type of message (stickers, photos, locations,etc) and replaces it with some trash that only allows you to delete photos or videos, other than clearing the whoFull Review\"\\r\\n1,Unable to put status on my whatsApp account please fix this bug as soon as possible because it\\'s bothering me a lot.. I\\'m trying to put status but unable to do so.. I thought it\\'s because of the issue that i haven\\'t updated the latest version of whatsApp so maybe after updating it will work finely bFull Review\\r\\n1,\"From about last ten days there is problem in this application regarding calling. During calling after few second ,there is interception in calling. Means to say that from both side can listen voice each other. Please look into it and resolve the problem.\"\\r\\n1,Apparently you can\\'t send a new message to someone who isn\\'t in your contacts and I made the mistake of not adding a + to an international number in my contacts so the messages I thought I was sending through what\\'s app all went through my sms without any sort of warning beforehand. I sent a LOT of Full Review\\r\\n1,\"This app is not as good as telegram,it is only useful for calling and sending voice,why can\\'t we have a deleting option for those messages which are more than one day old??? This is so annoying and is not acceptable,I am losing my personality because of this and my mistake. THIS SHOULD BE FIXED AS SFull Review\"\\r\\n1,\"I used to really enjoy WhatsApp. Until last week. Their \"\"support team\"\" as they call themselves. Doesn\\'t actually support anything. It\\'s just a bunch of automated messages. I set up a new number and it immediately got banned, and I have never even used the number before. They are unable to give a expFull Review\"\\r\\n1,Aftet the new update things got messed up. The camera is glitching and when i take a photo with flashlight on the screen freezes. And when i take a picture in landscape mode it flips 180\\xe2\\x81\\xb0 upright. That never happened before. So please fix!!!\\r\\n1,I am having real issues when it comes to sharing location with myself and family. It seems to take ages to update location for all of us. This is a fairly new issue as previously its been working fantastic. Nothing has changed on our end so have no clue what\\'s going on!\\r\\n1,\"People who were not in my contacts knew my status updates. \\xf0\\x9f\\x98\\x82 Perhaps it\\'s not the app\\'s flaws, only some real skillful but unethical hackers? But perhaps the app has some security issues as well? I wish anything worse than covid-19 to those who can\\'t really know that everyone\\'s rights of digital prFull Review\"\\r\\n1,I am facing an issue in the app that i am not receiving the messages by people who messaged me.. they got vanish from mine app not from the person phone who sent the messages. I did reinstall the app for many times but still sometimes the messages are shown in the notification panel but not shown inFull Review\\r\\n1,\"let me tell you why your app is a total waste of time: 1. Downloads unnecessary media to your phone. Images, videos whtevr, all of it goes to your gallery and takes up space. Why cant you just let it stay on the app and delete it a month after like usual? If i wont download it, the media remains bluFull Review\"\\r\\n1,\"It\\'s not working facing issues while opening \\xf0\\x9f\\x98\\x94\\xf0\\x9f\\x98\\x94\\xf0\\x9f\\x98\\x94 what apps company have service issues not replying on sms mail ,it\\'s not working ,it\\'s not opening the apps on same number ,if any ceo or vice president type person is strictly check this issue and resolve this. I think my whatsapp they have baan. Full Review\"\\r\\n1,Broadcast is not working. Everyone of my recipient have saved my contact still not able to receive messages. Some of them receive and some of them are not able to receive. Very much problem\\'s.\\r\\n1,\"This week the audio of my calls suddenly stopped, only audios in the message that works. Every time someone calls me, I hear the person, but the person doesn\\'t hear me. I try to unlock the audio, but nothing change. Now I can\\'t make any call through this app. It\\'s horrible!\"\\r\\n1,\"Hey, what is the problem? I just finished updated my Whatsapp to latest but just now i received a notification that My Whatsapp chat history has a problem and some of my messages and chat are gone. What is the point updating if this one has a problem??? I never had this sort of problem before updatiFull Review\"\\r\\n1,After restoring backup doesn\\'t work web.whatsapp and desktop. Endless circle on page and desktop app after qr scan. And closing mobile app after qr scan. If doesn\\'t restore all work fine. Updating app doesn\\'t help. It\\'s 3 month. HELLLLPPPPPP\\r\\n1,\"Since the last two updates, screen in screen for YouTube videos is not available. Only the link for a YouTube video gets copied when shared on WhatsApp, it doesn\\'t show the thumbnail and description of the video. This needs a fix.\"\\r\\n1,\"I can\\'t delete any chats, once I do that the app crashes and I can\\'t open the application anymore. I tried clearing the cache and it didn\\'t work eventually I had to delete the application. Whatsapp really needs a good IT team because everyone uses it and there\\'s no end to end customer service, if itFull Review\"\\r\\n1,\"Thanks for selling my info. As soon as I used this app I started getting calls like crazy from unknown callers and numbers not in my contacts. I\\'ve had this number for a long time and I\\'ve never had a call from outside of my contact list before I used this app. Thanks again, FaceCrook.\"\\r\\n1,\"Don\\'t upgrade this version, I am facing lot of issues with whatsapp after updating to latest version. App is running very slow, images not getting downloaded in super speed wifi network. Expecting some solutions with this from technical team.\"\\r\\n1,\"I\\'m not able to see the status, and even mostly it becomes blurred not clear as it is,,, and suddenly it stops and home screen appears and the app stops working!!!! Please check this out, I\\'m getting very irritated\"\\r\\n1,\"While Video Call camera preview hangs. Since 2 months this issue has been started. After updating app it goes for a while but then again comes. While video calling, you can see other person and they can see you but you can\\'t see yourself on the self window. It freezes.\"\\r\\n1,Cannot successfully backup over last 1 month. Every time process is stuck at 99%. There are problem in sending and receiving media file as well. Please fix this issue.\\r\\n1,I just want to backup my chat history and transfer to the other phone but it seems so difficult for me? WhatsApp cannot been log in for 24 hours? I cannot access into the app\\xf0\\x9f\\x99\\x83 I really cannot understand why is it so difficult for me to login whatsapp to my another phone. Chat history always missingFull Review\\r\\n1,\"Hello can you please fix this app, because I want to sent some pictures but it can not be send. I have try many time but still same. So please, fix it. This app make my phone lag. Please do not mind my grammar. Hopefully, you can understand what i want to says.\"\\r\\n1,What the hell is whatsapp doing. I am not able to get new messages also previous messages of last two months are not loading. I am not able to restore my backup. I have been exited from all the groups as well. I wrote mails to whatsapp but only to get no responses. Sad but true...one of my favouriteFull Review\\r\\n1,\"Originally we could forward up to 20 users. Then it was reduced to max 5 user, and from when Zuckemberg brought it, very often since last update, it popup the message the forwarded item its been forwarded to many times and it limit to a single user, what next? ZERO FORWARDING? Go head, kill whatup. Full Review\"\\r\\n1,It\\'s too glitchy. The images cannot be viewed it always show this image does not exist in your device. Shame on you team Facebook. Well I am changing to telegram or Viber. They have better chatting options and many other features\\r\\n1,\"The zoom in feature while recording a video is very laggy, And there is no double tap feature to switch rear/front cameras. I simply do not understand how can the same app in the IOS is much more superior than in android. There is switch camera feature and a very precise and fast non laggy zoom in fFull Review\"\\r\\n1,I have conversations that I don\\'t delete and up a few days ago where on my phone and since that stupid message came abt new update and privacy policy and if you don\\'t accept now WhatsApp won\\'t work and whatever my messages are gone and the stupid back doesn\\'t bring them back either so angry right noFull Review\\r\\n1,The broadcast messages are not delivered to the complete list. Earlier they used to get delivered. I get the double tick as a proof of delivery but it is not delivered. This is a glitch. Get it rectified asap.\\r\\n1,\"Everytime i get this absence of thumbnail preview of a youtube video im trying to share to someone or to my status.... I updated the app and the problem seemed solved for ONE video..but then, as from second video, it was back to the same problem... \\xf0\\x9f\\x99\\x84 It\\'s a bit annoying... Please fix this permanentFull Review\"\\r\\n1,\"I don\\'t know why after i update my WhatsApp apps, i can\\'t download any picture or documents and i can\\'t see my friends status. It\\'s always showing me loading loading loading. this time whatsapp not helpful. So bad. i can\\'t do my work just now!!\"\\r\\n1,\"Reversing primary feature\\'s with Zero Explanation, zero feedback on your Loyal User\\'s comments and even Legitemate Security concern\\'s. Every WhatsApp user can see where this is going, claiming app update\\'s that wernt asked for or needed...ever, eg.(emoji nonsence), whilst simultaneously DeVolving thFull Review\"\\r\\n1,I am not able to recieve message nor can i send message. My internet is working i can open all aaps. I have clear cache & force stop. This issue is 4th time happened with me. Every time i have uninstall the app & downloaded again The main issue is of backup i don\\'t get all messages which i get backuFull Review\\r\\n1,\"Recently some of the names of my contacts suddenly disappeared leaving numbers displayed on the screen. I tried to re-save again to the existing contacts in my phone book, but they just wouldn\\'t link back to the phone contacts at all. Can you pls tell me how to correct this issue?\"\\r\\n1,\"Off late, the broadcast messages that I am sending are being received by a few people only and my number is saved in their phones. This seems to be a major glitch because most of them are not receiving my messages. Kindly fix this.\"\\r\\n1,From last update I am not able to select messages by doing tap and hold and not able to select message or can\\'t copy them. It frustrates please solve this issue as soon as possible. Thanks. Riyaz A.\\r\\n1,\"There should be negative star \\xf0\\x9f\\x8c\\x9f because it\\'s too much laggy and slow. It takes so much time to start and also not able to change DP, and at least had to try 20 times . something must be done for this I am too much frustrated with WhatsApp\"\\r\\n1,Pathetic. They block the number for no reason... I believe they should realise the fact that they exist because of customer and if they don\\'t come back to customer will go. There are competitors available like kaizala or telegram or even personal chats so the behaviour of blocking will give you a goFull Review\\r\\n1,Voice messages are getting random stutters as if there is an audio remix that cuts off parts of my messages. I\\'ve already reinstalled the app and even hard reset my phone. It didn\\'t happen on older versions of the app but for the past months it\\'s been terrible!\\r\\n1,\"Drained 17% of my battery over two hours of usage wrongly reported as \"\"foreground\"\" by the OS while the app was not used at all (no ongoing call or whatever and not visible). That happened with battery saver enabled BTW.\"\\r\\n1,From last many days audio calls starts becoming distorted after about a minute of duration. Earlier it was a fentastic application and I am enjoying it since many many years. Needs to fix it as its much disturbing for me. Problem remains the same even on wifi or 4G both data connections.\\r\\n1,\"This version refuses to make or pick calls with my NOKIA 5.3 android 10 phone, despite checking and enabling all permissions. Please look into this in the next update. I can\\'t make or receive calls and it\\'s painful\"\\r\\n1,Last update has broken incoming calls. It no longer shows the incoming call I must scroll down and look in the notifications for the incoming call. Messenger is also doing the same now!\\r\\n1,The feature of setting of custom wallpaper for every chat is not working inspite of updating the app to latest version. I even restarted my phone but the issue persists. Kindly solve the issue as soon as possible.\\r\\n1,\"I am going to give one star due to its whatsapp web. It never sign into my pc via whatsapp web. Please fix it. I tried it from every phone in house. But nooo, it will not sign in. Due to this reason i will give only 1star. Please fix it......\"\\r\\n1,\"While driving connected to Bluetooth on Whatsup call , if any normal call comes then again you need to connect to Bluetooth, camera is ok ok, message historybgot compromised by itself. Many messages got deleted giving a lot of rush, every call in history of same person gives details individually\"\\r\\n1,My WhatsApp is not working at all. If I try to do anything its saying \\'no internet connection\\'. And my Internet is perfectly working (There\\'s no issue with my WiFi or internet). WhatsApp help and support if you can give me some help with it please do it asap.\\r\\n1,when i am opening the app its shows messages there is no notification showing while i am offline this disaster is showing after the latest update of this app.i am facing soo much problem i am not getting notification over top of android .app notification setting is set by default .its very good app Full Review\\r\\n1,I had to give one star because the flagging system is banning accounts irresponsibly. It needs an adjustment on what\\'s harmful and what could possibly violate whatsapp\\'s terms and conditions. It\\'s very unfortunate to some of us users who have been flagged severally for petty unharmful issue. This reFull Review\\r\\n1,\"When I uninstalled and installed the app when my phone hanged, I am unable to see the stickers icon and I am not able to send stickers anymore. This is one of my worst experiences with WhatsApp. I had saved many stickers and I can\\'t see any now!\"\\r\\n1,\"I\\'m mostly just annoyed that I can\\'t view pictures or videos without downloading them. I\\'ve set it to download \"\"no media\"\" in the settings, but when I try to view anything it says \"\"to download media blah blah blah\"\". I don\\'t want to download it. I just want to look at the damn thing.\"\\r\\n1,\"It\\'s new version is so bad I lost all notes now a days online classes are there all notes are coming in whatsapp , WhatsApp\\'s new version should be updated and it is compulsory to update Either wise u will lose access to whatsup 2021 new version is super bad! Thank God some notes are stored by takinFull Review\"\\r\\n1,\"This app is very bad , past few days I am not able to download any pdf , photo , audio and video and I am not able to upload any wallpaper ( chat screen one not the profile photo ). If you fix this problem then I promise you to give 5 star rating.\"\\r\\n1,Could be a 5 Star app but there always seems to be something wrong with it. Latest problem is that it\\'s ignoring custom group notification settings and giving me a default notification tone regardless of the settings that should override it.\\r\\n1,\"I would give 5 stars when WhatsApp return the function of showing YouTube video preview in the chat. I noticed it had since been removed by WhatsApp. Now whenever I share YouTube link, there is no more preview like in the past. Please bring back the YouTube preview function.\"\\r\\n1,from past few days every voice or video call i make keeps getting distorted after minute and a half or two. the other side sounds like robot to me and they can\\'t hear me at all. please advise what it is? i have tried uninstalling and reinstalling the app too.\\r\\n1,The app was good earlier but after arriving of telegram what\\'s app become too old in comparison to telegram . Telegram gives lots of features - It hide my number ( so I can easly join in any group I think if what\\'s app will not able to give this new features as telegram it may be obsolete soon\\r\\n1,\"Tired of whatsapp\\'s always online feature? As Whatsapp is not interested in a logoff option, here\\'s an easy tip. Go to phone settings > apps > whatsapp > data settings, disable all four options there. Then force stop whatsapp. There you go, whatsapp off, but all other things in mobile works! When yoFull Review\"\\r\\n1,\"I hate this app. I was going to block my friend as a joke and I accidentally pressed \"\"report and block\"\". Why should it clear the chats? Why does report and block clear the damn chats!? I just lost 35,000 messages with my best friend and I even cried. I dispise this app now. There is literally no wayFull Review\"\\r\\n1,\"Now a days unable to send messages from broadcast list. It shows that messages are sent to everyone in the LIST, but recipients are not viewing the same message.\"\\r\\n1,\"When I share a YouTube link on groups, personal messages or status, it doesn\\'t show the preview option as it used to show before. That was a really good feature. Please respond regarding this bug.\"\\r\\n1,\"Dear Sir/WhatsApp Because I keep changing my device ( routing). :huawei,Samsung,honor,Tablets-----. and due to need to re-registered my WhatsApp for my number again. Now the problem is had to delay for more then 20+++ hrs to re-registered again. Please,Hope can remove the timeline limitation and avaFull Review\"\\r\\n1,Since last few days not able broadcast message Whenever I send message in broadcast to multiple number it shows double ticky\\xe2\\x9c\\x94\\xef\\xb8\\x8f\\xe2\\x9c\\x94\\xef\\xb8\\x8f but it doesn\\'t become blue and not show my post all members. The recipient is complaining that he has not received the message Why its happening so So I am rating as one sFull Review\\r\\n1,\"I un-installed the app and from here on its just rubbish. It\\'s been initialising for the whole morning. Can yal fix this already. And yes I\\'ve updated to the latest version so no, uts not that. And don\\'t tell me to restart my phone. Done that too!\"\\r\\n1,\"After the new update, why are we unable to see the number of texts sent to a person... I kindly request to bring that version back.... This new update is rubbish.. I cannot put my own wallpaper from gallery\"\\r\\n1,From last few days I am facing voice distortion after around 30 sec of all the audio calls. Fails to fix this issue. Earlier it was all ok and well performing application.\\r\\n1,\"Please let us toggle off that voice record button. It\\'s taking up the most prime real estate, and is so easy to trigger accidentally.\"\\r\\n1,Nice app but one small request normally many people used dual sim and two personal number at single mobile. At the same time in single mobile only one whatsapp uses for single number but another number they can\\'t using whatsapp. so please giving option for two whatsapp using for different contact nuFull Review\\r\\n1,Before some time due to personal reasons I deleted my account...now I want it back and when I\\'m gonna registrating my account it goes over code but suddenly it shows download the latest version from play store...but currently there is no update...solve this\\r\\n1,\"Since the last update, messages sent through Broadcast are not being delivered to the members. In my devuce it is showing as delivered but they are not getting any of my messages in their device...\"\\r\\n1,Good app... But lately cant get youtube thumbnails to show up on messages. Very annoying. Please fix.. cleared cache and restarted several times. Still no luck.\\r\\n1,Not inclusive enough. Please give us ability to block voice messages or at least add feature to transcribe voice messages into text. Think of deaf people who use your app.\\r\\n1,\"Worst experience, broadcast message to the added contacts also not delivered, after showing double tick in my message though. Watsapp should fix this as soon as possible.\"\\r\\n1,\"Wow such a grate update. Not safe, Not cloud base ! No perfect Stickers, no saved gif and Messages, no forwarding , no good internal playing. In one word awful ! if you have no new ideas , please just copy from Telegram app! It\\'s open source! :)))))))))\"\\r\\n1,\"I tried several times to pick a picture from my phone gallery and set it as my WhatsApp status. But, whenever I try to do that I could only see a black screen with no photo gallery visible at all... Support team not responding at all\"\\r\\n1,\"has went downhill, why would we need chats to dissappear, that\\'s what snapchat is for. the video uploading/sharing takes about 10 mins. not always getting notifications. the app needs work and fixed, not cloned so it resembles snapchat\"\\r\\n1,\"I\\'ve been a whatsapp user for almost 7 years, and yesterday, I\\'ve just lost all my chats with no way to restore it. I\\'ve been doing backup in Google drive, and I\\'m not able to restore it. Angry and frustrated!\"\\r\\n1,\"Please give us the option to bulk delete TEXTs as well via the new Storage Management, not just Videos and Pics. Also, please reinstate the ability to CLEAR Group Chat WITHOUT opening the Group Chat first. That way, group members will not receive confirmation that you read a message that you actuallFull Review\"\\r\\n1,\"I am facing an issue since 3 days, like when I download the pics and tap on it then it again ask to download it and it\\'s showing in the gallery sometimes but the files are corrupt so m not able to send it anywhere else.\"\\r\\n1,\"Very unhappy with the update, Earlier while a sharing a link a preview used to appear in the chat now whenever I share a song or something no preview is available that\\'s something disappointing please revert it to the original.\"\\r\\n1,BROADCAST MESSAGE IS NOT WORKING.EARLIER ITS WORKING NOW ITS NOT.WHY IS THIS GOING ON.I AM FACING BIG PROBLEMS DUE TO THIS . AS IT SHOWS MESSAGE DELIVERED IN MY PHONE AND IN OTHERS PHONE WHEN I CHECKED I GOT SHOCKED THAT MESSAGE WAS NOT EVEN SENT TO THEIR PHONE.HOW CAN WE COMMUNICATE NOW WITH THIS PFull Review\\r\\n1,\"Hi I am a whatapp user ,I am living in WhatsApp when my friend or someone call me in WhatsApp I am not getting sound . My new mobile full sound .I have searched in YouTuber there are more problem\\'s about new update so ,pls emove the bug fast .\"\\r\\n1,\"Everyone please start using telegram. Always a terrible experience moving one phone to another. Neither the backups work. Nor is there any cross compatibility between iOS and Android. This is absolute trash from \"\"FACEBOOK\"\" I would have never use whatsapp but all my contacts do so I have to really. EFull Review\"\\r\\n1,\"There is problem in broadcast messages, when i send broadcast message my half freinds did not recieve my message and half freinds recieve my message this problem occure after update of whattsapp on 5th december 2020. I mail to the whattsapp team but they not yet fix this problem.\"\\r\\n1,\"Just downloaded the latest update. After, went to send a message and noticed that all my stickers and Gif that took me so long to get them were lost. The same happen with some conversations I was saving. Everytime an update comes it come with glitches. Can anybody tell me how to recover my what I loFull Review\"\\r\\n1,everything is just amazing except one change in the new update i.e. storage management option as it replaced data storage option which had shown us how many texts we sent and recived to a particular contact please fir it as soon as possible as many users need that\\r\\n1,If I don\\'t want to update to the last version I\\'m not able to see the messages... too bad! I hope one day Whatsapp stop being the app that everyone want to use it.\\r\\n1,\"It has become a very stupid app recently. It\\'s always saying \"\"Your phone number has been banned from whatsapp\"\" have sent series of mails to them but still the same. I don\\'t know what is wrong with their app lately..... So annoying!\"\\r\\n1,I have faced a big issue (Video sending). Last night I was sending a video to my frnd at 9:32 pm and it was only 5MB. It got sent at 10:12 pm and my internet is working well 4G+. Wt is happening with my WhatsApp? Plz fix it \\xe2\\x9d\\xa4\\xe2\\x9d\\xa4\\xe2\\x9d\\xa4\\r\\n1,To my phone some unknown calls are coming from other states and they are talking in hindi and they are asking that you have send some wrong messages but I have not send any wrong message to anyone and l not have their phone numbers and after sometimes the WhatsApp was bande this is second time and lFull Review\\r\\n1,I wont say but this app is somehow nice but my problem is when I send somthing to someone or the person sends something to me it wont go or come fast the reason why am complaining is because I do buisness is not helpful that way because it dosent make my buisness move especially in this season becauFull Review\\r\\n1,\"When I tried to \\'rate\\' someone out of 10 (chain mail) , it always cut out a number or made the number completely different. Also this is trash bc it almost ruined ma friendship with one of my friends. I got rlly mad at WhatsApp. They have to fix it\"\\r\\n1,After new update sometimes it automatically redirected google map with source as my location and destination as someone from my contact list. Please resolve this issue as it is so irritating\\r\\n1,\"Whatsapp is getting totally useless, messages receiving but 80% of time it is not alerting with sound & vibration. Icon visible in status bar but no sound & vibration. Notification channels are not working properly at all..\"\\r\\n1,\"Notification error, when I receive a new message all previous unread messages show up again in notifications. This should not be the case.\"\\r\\n1,There is alot of bugs and this makes the phone hang and unable to download pictures and videos. Please look into it and make the changes\\r\\n1,Since the newest update of 2 days ago my broadcast list does not deliver my messages anymore. The recipients do have my number saved but the do not get my messages. Please fix this problem\\r\\n1,\"YouTube link previews and icons are not working anymore. When i share a YouTube video link in my WhatsApp messages, preview is missing, just the link is there.\"\\r\\n1,The old storage view is better to know our no of messages of all kind. The new look of storage is absolutely waste. It can be done from d Selecting a person and can delete bulk.\\r\\n1,The audio downloading is not working properly. Audio format is not supported.messages are received late. And downloading stops if screen turns off.And I get persistent messages to update the app.\\r\\n1,\"The offline backup it creates are unsecured. They can be accessed by anyone and it\\'s a harm to your Privacy. Atleast Whatsapp could encrypt them with a passphrase like Signal. Don\\'t choose Whatsapp, Use Signal.\"\\r\\n1,As of about 11:25pm phone phone stopped communicating with the desk top. Uninstalled and reinstalled both. WhatsApp on my phone will.not scan the QR code.\\r\\n1,\"New Phone - WhatsApp Broken? Got the new Samsung flagship phone and now my WhatsApp won\\'t send pictures or videos from this phone. Pretty major failure. Support have been unable to help other than say \"\"uninstall and reinstall\"\"\"\\r\\n1,Currently this app only allows you to share a message to five contacts at a time. This is time wasting and also power wasting. Truthfully speaking I\\'m not happy with this\\r\\n1,\"Nice apps but always problem sometime I set video in status its doesn\\'t work about 5 minutes also it doesn\\'t work long time that I have to wait,your WhatsApp I put video status also its take a long time I think all this apps are duplicated,1 star gone sorry\"\\r\\n1,\"Images are getting downloaded multiple times. When try to open an image,it gets downloaded fresh again.like this repeating images are stored in gallery\"\\r\\n1,When I am using camera in whtsapp capture the laptop screen photo that time always comming errors (camera failed) Last three months facing this issue \\xf0\\x9f\\x98\\x94\\xf0\\x9f\\x98\\xad kindly do something I am always using update whtsapp it\\'s taking a time to capture photos and send to officially group \\xf0\\x9f\\x98\\x94\\xf0\\x9f\\x98\\x94\\r\\n1,I am really dissapointed with whatsapp.... It was good but now it is worst... I am not able to send even a single video as well as in my story .... My net is fine but stilp whatsapp isnt responding \\xf0\\x9f\\x98\\xa0 i am really dissapointed .... Since yesterday evening i am trying but still nowthe video hasnt reacFull Review\\r\\n1,Its a very good app overall but from a week the voice calls across the countries have developed severe distortion and call failures. Please fix this issue.\\r\\n1,Whatsup and Facebook same email id only matches with whatsup pay......My contacts are only allowed to see the catalogue in whatsup business. Advance Status Timer or Status Timer Date wise isnot available.so we cannot post advance status after few days without internet. Advance Status feature should Full Review\\r\\n1,After last update I am not able to make calls on WiFi only mobile network and my internet works perfectly and it\\'s also fiberoptic I don\\'t know what is the problem with this app but I hope will get fixed soon I can not talk to my loved ones \\xf0\\x9f\\x98\\xa4\\r\\n1,\"From last week I am not able to send message on broadcast, I mean message have been send but it will not reach to the destination of receivers number, before that all the time it works smoothly\"\\r\\n1,\"SERIOUS PRIVACY FLAW Almost every IM app or service has a setting to choose whether your online status is shown, or at least shown to who you choose (e.g. only contacts). But WhatsApp shows you as online GLOBALLY to anyone who has your number. This isn\\'t new, has been like that from the beginning, aFull Review\"\\r\\n1,Link previews (e.g. for YouTube videos) have stopped working. This means WhatsApp is no longer a useful communication and teaching tool. Urgent fix required!\\r\\n1,\"Very cool thing because I can chat with my friends, family, and call and it\\'s very important because if their wasn\\'t an app like this everyone couldn\\'t message their parents about anything inportant or any thing.\"\\r\\n1,Please update feature like when we upload any image on status the quality become low so its luck very bad and pixel are very poor .so please fix these issue or give option like upold orignal or low size So please look in these matter\\r\\n1,\"I have very often missed calls. The phone is in front of me, but haven\\'t ring or vibration. Then notify that have a missed call. \\xf0\\x9f\\x98\\x92\"\\r\\n1,\"Why is it that with this latest update , the status resolution is lower than normal, looks like poor quality , work on that please\"\\r\\n1,\"While adding to any Group it reflects \"\"Added You\"\" So while removing the person from a group it must reflect \"\"Subtracted you\"\" Sounds cool and less embarrassing. Please add this feature on WhatsApp. Will be cool.\"\\r\\n1,Calls aren\\'t working. It gets disconnected with 1 min or 30 seconds. Be it local call or international. They can\\'t hear us and calls get disconnected automatically\\r\\n1,In android 10 popup function is not working so please enable this function for android 10 please solve this issue faster and its taking lot of storage space please fix it!!!\\r\\n1,My whatsapp is not working i could not get calls and msgs untill i open the App. Later i get notification of missed call and msg after an hour.. Thats terrible!!\\r\\n'}"
            ]
          },
          "metadata": {},
          "execution_count": 3
        }
      ]
    },
    {
      "cell_type": "code",
      "source": [
        "import tensorflow as tf\n",
        "tf.test.gpu_device_name()"
      ],
      "metadata": {
        "colab": {
          "base_uri": "https://localhost:8080/",
          "height": 35
        },
        "id": "NVfEfhQpQF8S",
        "outputId": "7a218676-e3b6-43a1-a5c8-4a3adaea4466"
      },
      "execution_count": 5,
      "outputs": [
        {
          "output_type": "execute_result",
          "data": {
            "text/plain": [
              "''"
            ],
            "application/vnd.google.colaboratory.intrinsic+json": {
              "type": "string"
            }
          },
          "metadata": {},
          "execution_count": 5
        }
      ]
    }
  ]
}